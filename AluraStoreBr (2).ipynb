{
  "nbformat": 4,
  "nbformat_minor": 0,
  "metadata": {
    "colab": {
      "provenance": []
    },
    "kernelspec": {
      "name": "python3",
      "display_name": "Python 3"
    },
    "language_info": {
      "name": "python"
    }
  },
  "cells": [
    {
      "cell_type": "markdown",
      "source": [
        "### Importação dos dados\n",
        "\n"
      ],
      "metadata": {
        "id": "RhEdWd9YUR6H"
      }
    },
    {
      "cell_type": "code",
      "execution_count": 437,
      "metadata": {
        "colab": {
          "base_uri": "https://localhost:8080/",
          "height": 293
        },
        "id": "T3EvaeQ_INIL",
        "outputId": "70dbbec8-5e57-4b58-e685-5271be1be5df"
      },
      "outputs": [
        {
          "output_type": "execute_result",
          "data": {
            "text/plain": [
              "                 Produto Categoria do Produto    Preço      Frete  \\\n",
              "0     Assistente virtual          eletronicos   219.08   9.249790   \n",
              "1         Mesa de jantar               moveis   256.35  11.234305   \n",
              "2      Jogo de tabuleiro           brinquedos   279.51  21.262681   \n",
              "3            Micro-ondas     eletrodomesticos  1009.99  54.667344   \n",
              "4  Cadeira de escritório               moveis   446.99  26.964689   \n",
              "\n",
              "  Data da Compra        Vendedor Local da compra  Avaliação da compra  \\\n",
              "0     16/01/2021     Pedro Gomes              SP                    4   \n",
              "1     18/05/2022  Beatriz Moraes              RJ                    1   \n",
              "2     15/03/2021      João Souza              DF                    1   \n",
              "3     03/05/2022      João Souza              RS                    4   \n",
              "4     07/11/2020   Larissa Alves              MG                    5   \n",
              "\n",
              "  Tipo de pagamento  Quantidade de parcelas    lat    lon  \n",
              "0    cartao_credito                       8 -22.19 -48.79  \n",
              "1    cartao_credito                       4 -22.25 -42.66  \n",
              "2    cartao_credito                       1 -15.83 -47.86  \n",
              "3            boleto                       1 -30.17 -53.50  \n",
              "4            boleto                       1 -18.10 -44.38  "
            ],
            "text/html": [
              "\n",
              "  <div id=\"df-331d6b89-38e3-43a1-9d9a-abf2660f8616\" class=\"colab-df-container\">\n",
              "    <div>\n",
              "<style scoped>\n",
              "    .dataframe tbody tr th:only-of-type {\n",
              "        vertical-align: middle;\n",
              "    }\n",
              "\n",
              "    .dataframe tbody tr th {\n",
              "        vertical-align: top;\n",
              "    }\n",
              "\n",
              "    .dataframe thead th {\n",
              "        text-align: right;\n",
              "    }\n",
              "</style>\n",
              "<table border=\"1\" class=\"dataframe\">\n",
              "  <thead>\n",
              "    <tr style=\"text-align: right;\">\n",
              "      <th></th>\n",
              "      <th>Produto</th>\n",
              "      <th>Categoria do Produto</th>\n",
              "      <th>Preço</th>\n",
              "      <th>Frete</th>\n",
              "      <th>Data da Compra</th>\n",
              "      <th>Vendedor</th>\n",
              "      <th>Local da compra</th>\n",
              "      <th>Avaliação da compra</th>\n",
              "      <th>Tipo de pagamento</th>\n",
              "      <th>Quantidade de parcelas</th>\n",
              "      <th>lat</th>\n",
              "      <th>lon</th>\n",
              "    </tr>\n",
              "  </thead>\n",
              "  <tbody>\n",
              "    <tr>\n",
              "      <th>0</th>\n",
              "      <td>Assistente virtual</td>\n",
              "      <td>eletronicos</td>\n",
              "      <td>219.08</td>\n",
              "      <td>9.249790</td>\n",
              "      <td>16/01/2021</td>\n",
              "      <td>Pedro Gomes</td>\n",
              "      <td>SP</td>\n",
              "      <td>4</td>\n",
              "      <td>cartao_credito</td>\n",
              "      <td>8</td>\n",
              "      <td>-22.19</td>\n",
              "      <td>-48.79</td>\n",
              "    </tr>\n",
              "    <tr>\n",
              "      <th>1</th>\n",
              "      <td>Mesa de jantar</td>\n",
              "      <td>moveis</td>\n",
              "      <td>256.35</td>\n",
              "      <td>11.234305</td>\n",
              "      <td>18/05/2022</td>\n",
              "      <td>Beatriz Moraes</td>\n",
              "      <td>RJ</td>\n",
              "      <td>1</td>\n",
              "      <td>cartao_credito</td>\n",
              "      <td>4</td>\n",
              "      <td>-22.25</td>\n",
              "      <td>-42.66</td>\n",
              "    </tr>\n",
              "    <tr>\n",
              "      <th>2</th>\n",
              "      <td>Jogo de tabuleiro</td>\n",
              "      <td>brinquedos</td>\n",
              "      <td>279.51</td>\n",
              "      <td>21.262681</td>\n",
              "      <td>15/03/2021</td>\n",
              "      <td>João Souza</td>\n",
              "      <td>DF</td>\n",
              "      <td>1</td>\n",
              "      <td>cartao_credito</td>\n",
              "      <td>1</td>\n",
              "      <td>-15.83</td>\n",
              "      <td>-47.86</td>\n",
              "    </tr>\n",
              "    <tr>\n",
              "      <th>3</th>\n",
              "      <td>Micro-ondas</td>\n",
              "      <td>eletrodomesticos</td>\n",
              "      <td>1009.99</td>\n",
              "      <td>54.667344</td>\n",
              "      <td>03/05/2022</td>\n",
              "      <td>João Souza</td>\n",
              "      <td>RS</td>\n",
              "      <td>4</td>\n",
              "      <td>boleto</td>\n",
              "      <td>1</td>\n",
              "      <td>-30.17</td>\n",
              "      <td>-53.50</td>\n",
              "    </tr>\n",
              "    <tr>\n",
              "      <th>4</th>\n",
              "      <td>Cadeira de escritório</td>\n",
              "      <td>moveis</td>\n",
              "      <td>446.99</td>\n",
              "      <td>26.964689</td>\n",
              "      <td>07/11/2020</td>\n",
              "      <td>Larissa Alves</td>\n",
              "      <td>MG</td>\n",
              "      <td>5</td>\n",
              "      <td>boleto</td>\n",
              "      <td>1</td>\n",
              "      <td>-18.10</td>\n",
              "      <td>-44.38</td>\n",
              "    </tr>\n",
              "  </tbody>\n",
              "</table>\n",
              "</div>\n",
              "    <div class=\"colab-df-buttons\">\n",
              "\n",
              "  <div class=\"colab-df-container\">\n",
              "    <button class=\"colab-df-convert\" onclick=\"convertToInteractive('df-331d6b89-38e3-43a1-9d9a-abf2660f8616')\"\n",
              "            title=\"Convert this dataframe to an interactive table.\"\n",
              "            style=\"display:none;\">\n",
              "\n",
              "  <svg xmlns=\"http://www.w3.org/2000/svg\" height=\"24px\" viewBox=\"0 -960 960 960\">\n",
              "    <path d=\"M120-120v-720h720v720H120Zm60-500h600v-160H180v160Zm220 220h160v-160H400v160Zm0 220h160v-160H400v160ZM180-400h160v-160H180v160Zm440 0h160v-160H620v160ZM180-180h160v-160H180v160Zm440 0h160v-160H620v160Z\"/>\n",
              "  </svg>\n",
              "    </button>\n",
              "\n",
              "  <style>\n",
              "    .colab-df-container {\n",
              "      display:flex;\n",
              "      gap: 12px;\n",
              "    }\n",
              "\n",
              "    .colab-df-convert {\n",
              "      background-color: #E8F0FE;\n",
              "      border: none;\n",
              "      border-radius: 50%;\n",
              "      cursor: pointer;\n",
              "      display: none;\n",
              "      fill: #1967D2;\n",
              "      height: 32px;\n",
              "      padding: 0 0 0 0;\n",
              "      width: 32px;\n",
              "    }\n",
              "\n",
              "    .colab-df-convert:hover {\n",
              "      background-color: #E2EBFA;\n",
              "      box-shadow: 0px 1px 2px rgba(60, 64, 67, 0.3), 0px 1px 3px 1px rgba(60, 64, 67, 0.15);\n",
              "      fill: #174EA6;\n",
              "    }\n",
              "\n",
              "    .colab-df-buttons div {\n",
              "      margin-bottom: 4px;\n",
              "    }\n",
              "\n",
              "    [theme=dark] .colab-df-convert {\n",
              "      background-color: #3B4455;\n",
              "      fill: #D2E3FC;\n",
              "    }\n",
              "\n",
              "    [theme=dark] .colab-df-convert:hover {\n",
              "      background-color: #434B5C;\n",
              "      box-shadow: 0px 1px 3px 1px rgba(0, 0, 0, 0.15);\n",
              "      filter: drop-shadow(0px 1px 2px rgba(0, 0, 0, 0.3));\n",
              "      fill: #FFFFFF;\n",
              "    }\n",
              "  </style>\n",
              "\n",
              "    <script>\n",
              "      const buttonEl =\n",
              "        document.querySelector('#df-331d6b89-38e3-43a1-9d9a-abf2660f8616 button.colab-df-convert');\n",
              "      buttonEl.style.display =\n",
              "        google.colab.kernel.accessAllowed ? 'block' : 'none';\n",
              "\n",
              "      async function convertToInteractive(key) {\n",
              "        const element = document.querySelector('#df-331d6b89-38e3-43a1-9d9a-abf2660f8616');\n",
              "        const dataTable =\n",
              "          await google.colab.kernel.invokeFunction('convertToInteractive',\n",
              "                                                    [key], {});\n",
              "        if (!dataTable) return;\n",
              "\n",
              "        const docLinkHtml = 'Like what you see? Visit the ' +\n",
              "          '<a target=\"_blank\" href=https://colab.research.google.com/notebooks/data_table.ipynb>data table notebook</a>'\n",
              "          + ' to learn more about interactive tables.';\n",
              "        element.innerHTML = '';\n",
              "        dataTable['output_type'] = 'display_data';\n",
              "        await google.colab.output.renderOutput(dataTable, element);\n",
              "        const docLink = document.createElement('div');\n",
              "        docLink.innerHTML = docLinkHtml;\n",
              "        element.appendChild(docLink);\n",
              "      }\n",
              "    </script>\n",
              "  </div>\n",
              "\n",
              "\n",
              "    <div id=\"df-60c5a46e-4633-44b5-8051-3945d5287e2c\">\n",
              "      <button class=\"colab-df-quickchart\" onclick=\"quickchart('df-60c5a46e-4633-44b5-8051-3945d5287e2c')\"\n",
              "                title=\"Suggest charts\"\n",
              "                style=\"display:none;\">\n",
              "\n",
              "<svg xmlns=\"http://www.w3.org/2000/svg\" height=\"24px\"viewBox=\"0 0 24 24\"\n",
              "     width=\"24px\">\n",
              "    <g>\n",
              "        <path d=\"M19 3H5c-1.1 0-2 .9-2 2v14c0 1.1.9 2 2 2h14c1.1 0 2-.9 2-2V5c0-1.1-.9-2-2-2zM9 17H7v-7h2v7zm4 0h-2V7h2v10zm4 0h-2v-4h2v4z\"/>\n",
              "    </g>\n",
              "</svg>\n",
              "      </button>\n",
              "\n",
              "<style>\n",
              "  .colab-df-quickchart {\n",
              "      --bg-color: #E8F0FE;\n",
              "      --fill-color: #1967D2;\n",
              "      --hover-bg-color: #E2EBFA;\n",
              "      --hover-fill-color: #174EA6;\n",
              "      --disabled-fill-color: #AAA;\n",
              "      --disabled-bg-color: #DDD;\n",
              "  }\n",
              "\n",
              "  [theme=dark] .colab-df-quickchart {\n",
              "      --bg-color: #3B4455;\n",
              "      --fill-color: #D2E3FC;\n",
              "      --hover-bg-color: #434B5C;\n",
              "      --hover-fill-color: #FFFFFF;\n",
              "      --disabled-bg-color: #3B4455;\n",
              "      --disabled-fill-color: #666;\n",
              "  }\n",
              "\n",
              "  .colab-df-quickchart {\n",
              "    background-color: var(--bg-color);\n",
              "    border: none;\n",
              "    border-radius: 50%;\n",
              "    cursor: pointer;\n",
              "    display: none;\n",
              "    fill: var(--fill-color);\n",
              "    height: 32px;\n",
              "    padding: 0;\n",
              "    width: 32px;\n",
              "  }\n",
              "\n",
              "  .colab-df-quickchart:hover {\n",
              "    background-color: var(--hover-bg-color);\n",
              "    box-shadow: 0 1px 2px rgba(60, 64, 67, 0.3), 0 1px 3px 1px rgba(60, 64, 67, 0.15);\n",
              "    fill: var(--button-hover-fill-color);\n",
              "  }\n",
              "\n",
              "  .colab-df-quickchart-complete:disabled,\n",
              "  .colab-df-quickchart-complete:disabled:hover {\n",
              "    background-color: var(--disabled-bg-color);\n",
              "    fill: var(--disabled-fill-color);\n",
              "    box-shadow: none;\n",
              "  }\n",
              "\n",
              "  .colab-df-spinner {\n",
              "    border: 2px solid var(--fill-color);\n",
              "    border-color: transparent;\n",
              "    border-bottom-color: var(--fill-color);\n",
              "    animation:\n",
              "      spin 1s steps(1) infinite;\n",
              "  }\n",
              "\n",
              "  @keyframes spin {\n",
              "    0% {\n",
              "      border-color: transparent;\n",
              "      border-bottom-color: var(--fill-color);\n",
              "      border-left-color: var(--fill-color);\n",
              "    }\n",
              "    20% {\n",
              "      border-color: transparent;\n",
              "      border-left-color: var(--fill-color);\n",
              "      border-top-color: var(--fill-color);\n",
              "    }\n",
              "    30% {\n",
              "      border-color: transparent;\n",
              "      border-left-color: var(--fill-color);\n",
              "      border-top-color: var(--fill-color);\n",
              "      border-right-color: var(--fill-color);\n",
              "    }\n",
              "    40% {\n",
              "      border-color: transparent;\n",
              "      border-right-color: var(--fill-color);\n",
              "      border-top-color: var(--fill-color);\n",
              "    }\n",
              "    60% {\n",
              "      border-color: transparent;\n",
              "      border-right-color: var(--fill-color);\n",
              "    }\n",
              "    80% {\n",
              "      border-color: transparent;\n",
              "      border-right-color: var(--fill-color);\n",
              "      border-bottom-color: var(--fill-color);\n",
              "    }\n",
              "    90% {\n",
              "      border-color: transparent;\n",
              "      border-bottom-color: var(--fill-color);\n",
              "    }\n",
              "  }\n",
              "</style>\n",
              "\n",
              "      <script>\n",
              "        async function quickchart(key) {\n",
              "          const quickchartButtonEl =\n",
              "            document.querySelector('#' + key + ' button');\n",
              "          quickchartButtonEl.disabled = true;  // To prevent multiple clicks.\n",
              "          quickchartButtonEl.classList.add('colab-df-spinner');\n",
              "          try {\n",
              "            const charts = await google.colab.kernel.invokeFunction(\n",
              "                'suggestCharts', [key], {});\n",
              "          } catch (error) {\n",
              "            console.error('Error during call to suggestCharts:', error);\n",
              "          }\n",
              "          quickchartButtonEl.classList.remove('colab-df-spinner');\n",
              "          quickchartButtonEl.classList.add('colab-df-quickchart-complete');\n",
              "        }\n",
              "        (() => {\n",
              "          let quickchartButtonEl =\n",
              "            document.querySelector('#df-60c5a46e-4633-44b5-8051-3945d5287e2c button');\n",
              "          quickchartButtonEl.style.display =\n",
              "            google.colab.kernel.accessAllowed ? 'block' : 'none';\n",
              "        })();\n",
              "      </script>\n",
              "    </div>\n",
              "\n",
              "    </div>\n",
              "  </div>\n"
            ],
            "application/vnd.google.colaboratory.intrinsic+json": {
              "type": "dataframe",
              "variable_name": "loja",
              "summary": "{\n  \"name\": \"loja\",\n  \"rows\": 2359,\n  \"fields\": [\n    {\n      \"column\": \"Produto\",\n      \"properties\": {\n        \"dtype\": \"category\",\n        \"num_unique_values\": 51,\n        \"samples\": [\n          \"Viol\\u00e3o\",\n          \"Bola de basquete\",\n          \"Smartwatch\"\n        ],\n        \"semantic_type\": \"\",\n        \"description\": \"\"\n      }\n    },\n    {\n      \"column\": \"Categoria do Produto\",\n      \"properties\": {\n        \"dtype\": \"category\",\n        \"num_unique_values\": 8,\n        \"samples\": [\n          \"moveis\",\n          \"esporte e lazer\",\n          \"eletronicos\"\n        ],\n        \"semantic_type\": \"\",\n        \"description\": \"\"\n      }\n    },\n    {\n      \"column\": \"Pre\\u00e7o\",\n      \"properties\": {\n        \"dtype\": \"number\",\n        \"std\": 819.5827782539145,\n        \"min\": 10.07,\n        \"max\": 3969.38,\n        \"num_unique_values\": 2315,\n        \"samples\": [\n          446.11,\n          107.31,\n          65.86\n        ],\n        \"semantic_type\": \"\",\n        \"description\": \"\"\n      }\n    },\n    {\n      \"column\": \"Frete\",\n      \"properties\": {\n        \"dtype\": \"number\",\n        \"std\": 43.814183327408166,\n        \"min\": 0.0,\n        \"max\": 214.3770604781,\n        \"num_unique_values\": 2149,\n        \"samples\": [\n          83.815279607,\n          16.069664669,\n          14.0344876928\n        ],\n        \"semantic_type\": \"\",\n        \"description\": \"\"\n      }\n    },\n    {\n      \"column\": \"Data da Compra\",\n      \"properties\": {\n        \"dtype\": \"object\",\n        \"num_unique_values\": 1018,\n        \"samples\": [\n          \"15/09/2022\",\n          \"03/06/2020\",\n          \"06/11/2021\"\n        ],\n        \"semantic_type\": \"\",\n        \"description\": \"\"\n      }\n    },\n    {\n      \"column\": \"Vendedor\",\n      \"properties\": {\n        \"dtype\": \"category\",\n        \"num_unique_values\": 14,\n        \"samples\": [\n          \"Juliana Costa\",\n          \"Mariana Ferreira\",\n          \"Pedro Gomes\"\n        ],\n        \"semantic_type\": \"\",\n        \"description\": \"\"\n      }\n    },\n    {\n      \"column\": \"Local da compra\",\n      \"properties\": {\n        \"dtype\": \"category\",\n        \"num_unique_values\": 26,\n        \"samples\": [\n          \"TO\",\n          \"RN\",\n          \"SP\"\n        ],\n        \"semantic_type\": \"\",\n        \"description\": \"\"\n      }\n    },\n    {\n      \"column\": \"Avalia\\u00e7\\u00e3o da compra\",\n      \"properties\": {\n        \"dtype\": \"number\",\n        \"std\": 1,\n        \"min\": 1,\n        \"max\": 5,\n        \"num_unique_values\": 5,\n        \"samples\": [\n          1,\n          2,\n          5\n        ],\n        \"semantic_type\": \"\",\n        \"description\": \"\"\n      }\n    },\n    {\n      \"column\": \"Tipo de pagamento\",\n      \"properties\": {\n        \"dtype\": \"category\",\n        \"num_unique_values\": 4,\n        \"samples\": [\n          \"boleto\",\n          \"cartao_debito\",\n          \"cartao_credito\"\n        ],\n        \"semantic_type\": \"\",\n        \"description\": \"\"\n      }\n    },\n    {\n      \"column\": \"Quantidade de parcelas\",\n      \"properties\": {\n        \"dtype\": \"number\",\n        \"std\": 2,\n        \"min\": 1,\n        \"max\": 24,\n        \"num_unique_values\": 15,\n        \"samples\": [\n          7,\n          14,\n          8\n        ],\n        \"semantic_type\": \"\",\n        \"description\": \"\"\n      }\n    },\n    {\n      \"column\": \"lat\",\n      \"properties\": {\n        \"dtype\": \"number\",\n        \"std\": 5.372399916530833,\n        \"min\": -30.17,\n        \"max\": 1.41,\n        \"num_unique_values\": 26,\n        \"samples\": [\n          -9.46,\n          -5.81,\n          -22.19\n        ],\n        \"semantic_type\": \"\",\n        \"description\": \"\"\n      }\n    },\n    {\n      \"column\": \"lon\",\n      \"properties\": {\n        \"dtype\": \"number\",\n        \"std\": 4.183180020544179,\n        \"min\": -70.55,\n        \"max\": -36.59,\n        \"num_unique_values\": 26,\n        \"samples\": [\n          -48.26,\n          -36.59,\n          -48.79\n        ],\n        \"semantic_type\": \"\",\n        \"description\": \"\"\n      }\n    }\n  ]\n}"
            }
          },
          "metadata": {},
          "execution_count": 437
        }
      ],
      "source": [
        "import pandas as pd\n",
        "\n",
        "url = \"https://raw.githubusercontent.com/alura-es-cursos/challenge1-data-science/refs/heads/main/base-de-dados-challenge-1/loja_1.csv\"\n",
        "url2 = \"https://raw.githubusercontent.com/alura-es-cursos/challenge1-data-science/refs/heads/main/base-de-dados-challenge-1/loja_2.csv\"\n",
        "url3 = \"https://raw.githubusercontent.com/alura-es-cursos/challenge1-data-science/refs/heads/main/base-de-dados-challenge-1/loja_3.csv\"\n",
        "url4 = \"https://raw.githubusercontent.com/alura-es-cursos/challenge1-data-science/refs/heads/main/base-de-dados-challenge-1/loja_4.csv\"\n",
        "\n",
        "loja = pd.read_csv(url)\n",
        "loja2 = pd.read_csv(url2)\n",
        "loja3 = pd.read_csv(url3)\n",
        "loja4 = pd.read_csv(url4)\n",
        "\n",
        "loja.head()"
      ]
    },
    {
      "cell_type": "markdown",
      "source": [
        "#1. Análise do faturamento\n"
      ],
      "metadata": {
        "id": "X62IW3KFUIYm"
      }
    },
    {
      "cell_type": "code",
      "source": [
        "print(f\"Loja 1 tem {len(loja)} registros\")\n",
        "print(f\"Loja 2 tem {len(loja2)} registros\")\n",
        "print(f\"Loja 3 tem {len(loja3)} registros\")\n",
        "print(f\"Loja 4 tem {len(loja4)} registros\")"
      ],
      "metadata": {
        "colab": {
          "base_uri": "https://localhost:8080/"
        },
        "id": "_J5ZKo-quE6R",
        "outputId": "ebc59c85-6e08-451b-e439-cdd83c5a991a"
      },
      "execution_count": 438,
      "outputs": [
        {
          "output_type": "stream",
          "name": "stdout",
          "text": [
            "Loja 1 tem 2359 registros\n",
            "Loja 2 tem 2359 registros\n",
            "Loja 3 tem 2359 registros\n",
            "Loja 4 tem 2358 registros\n"
          ]
        }
      ]
    },
    {
      "cell_type": "code",
      "source": [
        "loja['Loja'] = 'Loja 1'\n",
        "loja2['Loja'] = 'Loja 2'\n",
        "loja3['Loja'] = 'Loja 3'\n",
        "loja4['Loja'] = 'Loja 4'"
      ],
      "metadata": {
        "id": "3-kaGRLuuWBh"
      },
      "execution_count": 439,
      "outputs": []
    },
    {
      "cell_type": "code",
      "source": [
        "todas_lojas = pd.concat([loja, loja2, loja3, loja4])\n",
        "\n",
        "print(f\"Todas: {len(todas_lojas)} vendas no total\")\n",
        "print(f\"Colunas: {list(todas_lojas.columns)}\")"
      ],
      "metadata": {
        "colab": {
          "base_uri": "https://localhost:8080/"
        },
        "id": "ydCrqleEukD9",
        "outputId": "90974879-ca74-40f7-ff1b-ed368bb2d277"
      },
      "execution_count": 440,
      "outputs": [
        {
          "output_type": "stream",
          "name": "stdout",
          "text": [
            "Todas: 9435 vendas no total\n",
            "Colunas: ['Produto', 'Categoria do Produto', 'Preço', 'Frete', 'Data da Compra', 'Vendedor', 'Local da compra', 'Avaliação da compra', 'Tipo de pagamento', 'Quantidade de parcelas', 'lat', 'lon', 'Loja']\n"
          ]
        }
      ]
    },
    {
      "cell_type": "code",
      "source": [
        "faturamento_loja = todas_lojas.groupby('Loja')['Preço'].sum()\n",
        "\n",
        "print(\"Faturamento total de cada loja:\")\n",
        "for loja, valor in faturamento_loja.items():\n",
        "    print(f\"{loja}: R$ {valor:,.2f}\")"
      ],
      "metadata": {
        "id": "KDyr8E71V3m-",
        "colab": {
          "base_uri": "https://localhost:8080/"
        },
        "outputId": "57a48334-1012-46c3-f34b-707d83ab7f0b"
      },
      "execution_count": 441,
      "outputs": [
        {
          "output_type": "stream",
          "name": "stdout",
          "text": [
            "Faturamento total de cada loja:\n",
            "Loja 1: R$ 1,534,509.12\n",
            "Loja 2: R$ 1,488,459.06\n",
            "Loja 3: R$ 1,464,025.03\n",
            "Loja 4: R$ 1,384,497.58\n"
          ]
        }
      ]
    },
    {
      "cell_type": "code",
      "source": [
        "faturamento_ordenado = faturamento_loja.sort_values(ascending=False)\n",
        "print(f\"Loja que mais vendeu: {faturamento_ordenado.index[0]}\")\n",
        "print(f\"Valor: R$ {faturamento_ordenado.iloc[0]:,.2f}\")"
      ],
      "metadata": {
        "colab": {
          "base_uri": "https://localhost:8080/"
        },
        "id": "5ZbH_CWyJAkZ",
        "outputId": "2992595f-2e80-456c-ff34-bb2e2eaa15e6"
      },
      "execution_count": 442,
      "outputs": [
        {
          "output_type": "stream",
          "name": "stdout",
          "text": [
            "Loja que mais vendeu: Loja 1\n",
            "Valor: R$ 1,534,509.12\n"
          ]
        }
      ]
    },
    {
      "cell_type": "code",
      "source": [
        "plt.figure()\n",
        "faturamento_loja.plot(kind='bar', color=['blue'])\n",
        "plt.title('Faturamento por Loja')\n",
        "plt.xlabel('Loja')\n",
        "plt.ylabel('Faturamento (R$)')\n",
        "plt.xticks(rotation=45)\n",
        "plt.show()"
      ],
      "metadata": {
        "colab": {
          "base_uri": "https://localhost:8080/",
          "height": 497
        },
        "id": "UdAktbFlvF7Z",
        "outputId": "ffc2dcc3-6e7b-4d98-8bc8-4f62122dd9e8"
      },
      "execution_count": 443,
      "outputs": [
        {
          "output_type": "display_data",
          "data": {
            "text/plain": [
              "<Figure size 640x480 with 1 Axes>"
            ],
            "image/png": "[encoded data removed]"
          },
          "metadata": {}
        }
      ]
    },
    {
      "cell_type": "markdown",
      "source": [
        "# 2. Vendas por Categoria\n"
      ],
      "metadata": {
        "id": "2V_vcAPzWZmR"
      }
    },
    {
      "cell_type": "code",
      "source": [
        "vendas_por_categoria = todas_lojas['Categoria do Produto'].value_counts()\n",
        "\n",
        "print(\"Quantidade de vendas por categoria:\")\n",
        "for categoria, qtd in vendas_por_categoria.items():\n",
        "    print(f\"{categoria}: {qtd} vendas\")"
      ],
      "metadata": {
        "id": "A34YupIuYhfF",
        "colab": {
          "base_uri": "https://localhost:8080/"
        },
        "outputId": "76811521-65f9-4f3b-860f-bec41a899e60"
      },
      "execution_count": 444,
      "outputs": [
        {
          "output_type": "stream",
          "name": "stdout",
          "text": [
            "Quantidade de vendas por categoria:\n",
            "moveis: 1886 vendas\n",
            "eletronicos: 1772 vendas\n",
            "brinquedos: 1290 vendas\n",
            "eletrodomesticos: 1149 vendas\n",
            "esporte e lazer: 1113 vendas\n",
            "instrumentos musicais: 753 vendas\n",
            "livros: 742 vendas\n",
            "utilidades domesticas: 730 vendas\n"
          ]
        }
      ]
    },
    {
      "cell_type": "code",
      "source": [
        "faturamento_categoria = todas_lojas.groupby('Categoria do Produto')['Preço'].sum()\n",
        "print(\"Faturamento por categoria:\")\n",
        "for categoria, valor in faturamento_categoria.sort_values(ascending=False).items():\n",
        "    print(f\"{categoria}: R$ {valor:,.2f}\")"
      ],
      "metadata": {
        "colab": {
          "base_uri": "https://localhost:8080/"
        },
        "id": "0NJeK1qNNzKH",
        "outputId": "8ddb7f79-e5b8-4e0b-9c91-93f78cdca685"
      },
      "execution_count": 445,
      "outputs": [
        {
          "output_type": "stream",
          "name": "stdout",
          "text": [
            "Faturamento por categoria:\n",
            "eletronicos: R$ 2,214,099.72\n",
            "eletrodomesticos: R$ 1,766,337.03\n",
            "moveis: R$ 1,010,214.00\n",
            "instrumentos musicais: R$ 465,029.67\n",
            "esporte e lazer: R$ 190,635.39\n",
            "brinquedos: R$ 98,140.86\n",
            "utilidades domesticas: R$ 76,773.38\n",
            "livros: R$ 50,260.74\n"
          ]
        }
      ]
    },
    {
      "cell_type": "code",
      "source": [
        "plt.figure()\n",
        "vendas_por_categoria.plot(kind='pie', autopct='%1.1f%%')\n",
        "plt.title('Distribuição de Vendas por Categoria')\n",
        "plt.ylabel('')\n",
        "plt.show()"
      ],
      "metadata": {
        "colab": {
          "base_uri": "https://localhost:8080/",
          "height": 428
        },
        "id": "rc1ol3Evvk1d",
        "outputId": "1cf57c9a-33d8-4a10-fe16-e6ddc9ca118b"
      },
      "execution_count": 446,
      "outputs": [
        {
          "output_type": "display_data",
          "data": {
            "text/plain": [
              "<Figure size 640x480 with 1 Axes>"
            ],
            "image/png": "[encoded data removed]"
          },
          "metadata": {}
        }
      ]
    },
    {
      "cell_type": "code",
      "source": [
        "vendas_categoria_total = todas_lojas.groupby(\"Categoria do Produto\").agg({\n",
        "    \"Produto\": \"count\",\n",
        "    \"Preço\": \"sum\"\n",
        "}).rename(columns={\"Produto\": \"Quantidade\", \"Preço\": \"Valor Total (R$)\"})\n",
        "\n",
        "vendas_categoria_total[\"Valor Total (R$)\"] = vendas_categoria_total[\"Valor Total (R$)\"].map(\n",
        "    lambda x: f\"R$ {x:,.2f}\".replace(\",\", \"X\").replace(\".\", \",\").replace(\"X\", \".\")\n",
        ")\n",
        "\n",
        "print(\"Vendas por Categoria\")\n",
        "print(vendas_categoria_total.to_string())\n",
        "\n",
        "total_geral_todas = todas_lojas[\"Preço\"].sum()\n",
        "total_formatado_todas = f\"R$ {total_geral_todas:,.2f}\".replace(\",\", \"X\").replace(\".\", \",\").replace(\"X\", \".\")\n",
        "print(f\"Total geral de vendas (TODAS AS LOJAS): {total_formatado_todas}\")"
      ],
      "metadata": {
        "colab": {
          "base_uri": "https://localhost:8080/"
        },
        "id": "bvfJ-xdPzTV0",
        "outputId": "8041ac71-d39f-4a69-de1b-a1eb197ac054"
      },
      "execution_count": 447,
      "outputs": [
        {
          "output_type": "stream",
          "name": "stdout",
          "text": [
            "Vendas por Categoria\n",
            "                       Quantidade Valor Total (R$)\n",
            "Categoria do Produto                              \n",
            "brinquedos                   1290     R$ 98.140,86\n",
            "eletrodomesticos             1149  R$ 1.766.337,03\n",
            "eletronicos                  1772  R$ 2.214.099,72\n",
            "esporte e lazer              1113    R$ 190.635,39\n",
            "instrumentos musicais         753    R$ 465.029,67\n",
            "livros                        742     R$ 50.260,74\n",
            "moveis                       1886  R$ 1.010.214,00\n",
            "utilidades domesticas         730     R$ 76.773,38\n",
            "Total geral de vendas (TODAS AS LOJAS): R$ 5.871.490,79\n"
          ]
        }
      ]
    },
    {
      "cell_type": "code",
      "source": [
        "print(\"Valor médio por venda:\")\n",
        "ticket_medio = todas_lojas.groupby('Loja')['Preço'].mean().sort_values(ascending=False)\n",
        "for loja, ticket in ticket_medio.items():\n",
        "    print(f\"   {loja}: R$ {ticket:.2f}\")"
      ],
      "metadata": {
        "colab": {
          "base_uri": "https://localhost:8080/"
        },
        "id": "3XmIh6Qz0EpX",
        "outputId": "16d96f53-5dd7-4177-a874-ade0c000c315"
      },
      "execution_count": 448,
      "outputs": [
        {
          "output_type": "stream",
          "name": "stdout",
          "text": [
            "Valor médio por venda:\n",
            "   Loja 1: R$ 650.49\n",
            "   Loja 2: R$ 630.97\n",
            "   Loja 3: R$ 620.61\n",
            "   Loja 4: R$ 587.15\n"
          ]
        }
      ]
    },
    {
      "cell_type": "markdown",
      "source": [
        "# 3. Média de Avaliação das Lojas"
      ],
      "metadata": {
        "id": "Rq6tU_xSY3jk"
      }
    },
    {
      "cell_type": "code",
      "source": [
        "avaliacao_media = todas_lojas.groupby('Loja')['Avaliação da compra'].mean()\n",
        "\n",
        "print(\"Avaliação média de cada loja:\")\n",
        "for loja, media in avaliacao_media.items():\n",
        "    print(f\"{loja}: {media:.2f} estrelas\")"
      ],
      "metadata": {
        "id": "bh3jjjJwY5MU",
        "colab": {
          "base_uri": "https://localhost:8080/"
        },
        "outputId": "57b8709d-8d44-4bf4-8ee0-34ecd2db7214"
      },
      "execution_count": 449,
      "outputs": [
        {
          "output_type": "stream",
          "name": "stdout",
          "text": [
            "Avaliação média de cada loja:\n",
            "Loja 1: 3.98 estrelas\n",
            "Loja 2: 4.04 estrelas\n",
            "Loja 3: 4.05 estrelas\n",
            "Loja 4: 4.00 estrelas\n"
          ]
        }
      ]
    },
    {
      "cell_type": "code",
      "source": [
        "melhor_loja = avaliacao_media.idxmax()\n",
        "melhor_nota = avaliacao_media.max()\n",
        "print(f\"Melhor avaliada: {melhor_loja} com {melhor_nota:.2f} estrelas\")"
      ],
      "metadata": {
        "id": "I0KkjPoTY88F",
        "colab": {
          "base_uri": "https://localhost:8080/"
        },
        "outputId": "8b545e5a-810d-4828-a600-2175c047ddb8"
      },
      "execution_count": 450,
      "outputs": [
        {
          "output_type": "stream",
          "name": "stdout",
          "text": [
            "Melhor avaliada: Loja 3 com 4.05 estrelas\n"
          ]
        }
      ]
    },
    {
      "cell_type": "code",
      "source": [
        "print(\"Total de avaliações:\")\n",
        "distribuicao = todas_lojas['Avaliação da compra'].value_counts().sort_index()\n",
        "for nota, qtd in distribuicao.items():\n",
        "    print(f\"{nota} estrelas: {qtd} avaliações\")"
      ],
      "metadata": {
        "colab": {
          "base_uri": "https://localhost:8080/"
        },
        "id": "UjOlObtcfNqZ",
        "outputId": "6c955991-e786-42f4-baa0-2bdc9a80f7d4"
      },
      "execution_count": 451,
      "outputs": [
        {
          "output_type": "stream",
          "name": "stdout",
          "text": [
            "Total de avaliações:\n",
            "1 estrelas: 1199 avaliações\n",
            "2 estrelas: 343 avaliações\n",
            "3 estrelas: 830 avaliações\n",
            "4 estrelas: 1813 avaliações\n",
            "5 estrelas: 5250 avaliações\n"
          ]
        }
      ]
    },
    {
      "cell_type": "markdown",
      "source": [
        "# 4. Produtos Mais e Menos Vendidos"
      ],
      "metadata": {
        "id": "DmNp1KPBZCm-"
      }
    },
    {
      "cell_type": "code",
      "source": [
        "vendas_por_produto = todas_lojas[\"Produto\"].value_counts()\n",
        "\n",
        "print(\"TOP 5 produtos mais vendidos:\")\n",
        "top_5 = vendas_por_produto.head(5)\n",
        "for i, (produto, qtd) in enumerate(top_5.items(), 1):\n",
        "    print(f\"{i}º {produto}: {qtd} vendas\")\n",
        "\n",
        "print(\"TOP 5 produtos menos vendidos:\")\n",
        "bottom_5 = vendas_por_produto.tail(5)\n",
        "for produto, qtd in bottom_5.items():\n",
        "    print(f\"{produto}: {qtd} vendas\")"
      ],
      "metadata": {
        "id": "qoyjqijQZHfF",
        "colab": {
          "base_uri": "https://localhost:8080/"
        },
        "outputId": "2d979013-551d-4de3-e15c-da08a5c7793d"
      },
      "execution_count": 452,
      "outputs": [
        {
          "output_type": "stream",
          "name": "stdout",
          "text": [
            "TOP 5 produtos mais vendidos:\n",
            "1º Cômoda: 210 vendas\n",
            "2º Carrinho controle remoto: 206 vendas\n",
            "3º Micro-ondas: 206 vendas\n",
            "4º Bateria: 203 vendas\n",
            "5º Cama king: 201 vendas\n",
            "TOP 5 produtos menos vendidos:\n",
            "Ciência de dados com python: 166 vendas\n",
            "Guitarra: 165 vendas\n",
            "Mochila: 163 vendas\n",
            "Headset: 158 vendas\n",
            "Celular ABXY: 157 vendas\n"
          ]
        }
      ]
    },
    {
      "cell_type": "markdown",
      "source": [
        "# 5. Frete Médio por Loja\n"
      ],
      "metadata": {
        "id": "Fl0cGi3bZKqU"
      }
    },
    {
      "cell_type": "code",
      "source": [
        "frete_medio = todas_lojas.groupby('Loja')['Frete'].mean()\n",
        "\n",
        "print(\"Frete médio de cada loja:\")\n",
        "for loja, media in frete_medio.items():\n",
        "    print(f\"{loja}: R$ {media:.2f}\")"
      ],
      "metadata": {
        "id": "S2JeaCykZNy9",
        "colab": {
          "base_uri": "https://localhost:8080/"
        },
        "outputId": "907e95b0-acc6-49d1-c075-8a989e144752"
      },
      "execution_count": 453,
      "outputs": [
        {
          "output_type": "stream",
          "name": "stdout",
          "text": [
            "Frete médio de cada loja:\n",
            "Loja 1: R$ 34.69\n",
            "Loja 2: R$ 33.62\n",
            "Loja 3: R$ 33.07\n",
            "Loja 4: R$ 31.28\n"
          ]
        }
      ]
    },
    {
      "cell_type": "code",
      "source": [
        "loja_frete_caro = frete_medio.idxmax()\n",
        "valor_frete_caro = frete_medio.max()\n",
        "print(f\"Frete mais caro: {loja_frete_caro} (R$ {valor_frete_caro:.2f})\")"
      ],
      "metadata": {
        "colab": {
          "base_uri": "https://localhost:8080/"
        },
        "id": "kM5rwAdSaV1Z",
        "outputId": "54aa77d8-ad5d-4862-82ef-64c93a1f754d"
      },
      "execution_count": 454,
      "outputs": [
        {
          "output_type": "stream",
          "name": "stdout",
          "text": [
            "Frete mais caro: Loja 1 (R$ 34.69)\n"
          ]
        }
      ]
    },
    {
      "cell_type": "code",
      "source": [
        "loja_frete_barato = frete_medio.idxmin()\n",
        "valor_frete_barato = frete_medio.min()\n",
        "print(f\"Frete mais barato: {loja_frete_barato} (R$ {valor_frete_barato:.2f})\")"
      ],
      "metadata": {
        "colab": {
          "base_uri": "https://localhost:8080/"
        },
        "id": "lTZpLJB6xAp6",
        "outputId": "111d8a19-d2a7-4535-a8a1-fa02d6020d51"
      },
      "execution_count": 455,
      "outputs": [
        {
          "output_type": "stream",
          "name": "stdout",
          "text": [
            "Frete mais barato: Loja 4 (R$ 31.28)\n"
          ]
        }
      ]
    },
    {
      "cell_type": "code",
      "source": [
        "plt.figure()\n",
        "frete_medio.plot(kind='line', color='lightblue')\n",
        "plt.title('Frete Médio por Loja')\n",
        "plt.xlabel('Loja')\n",
        "plt.ylabel('Frete Médio (R$)')\n",
        "plt.xticks(rotation=45)\n",
        "plt.show()"
      ],
      "metadata": {
        "colab": {
          "base_uri": "https://localhost:8080/",
          "height": 498
        },
        "id": "2RS8yRZnxDbR",
        "outputId": "509f552f-9d2f-4464-b9ef-497e3e49775a"
      },
      "execution_count": 456,
      "outputs": [
        {
          "output_type": "display_data",
          "data": {
            "text/plain": [
              "<Figure size 640x480 with 1 Axes>"
            ],
            "image/png": "[encoded data removed]"
          },
          "metadata": {}
        }
      ]
    },
    {
      "cell_type": "code",
      "source": [
        "print(f\"Loja com melhor faturamento: {faturamento_ordenado.index[0]}\")\n",
        "print(f\"Categoria que mais vende: {vendas_por_categoria.index[0]}\")\n",
        "print(f\"Loja melhor avaliada: {melhor_loja}\")\n",
        "print(f\"Produto mais vendido: {top_5.index[0]}\")\n",
        "print(f\"Loja com frete mais caro: {loja_frete_caro}\")"
      ],
      "metadata": {
        "colab": {
          "base_uri": "https://localhost:8080/"
        },
        "id": "-xK6nhYKxFmA",
        "outputId": "57f29cfb-97ab-4673-b451-7efbbd80d0ef"
      },
      "execution_count": 457,
      "outputs": [
        {
          "output_type": "stream",
          "name": "stdout",
          "text": [
            "Loja com melhor faturamento: Loja 1\n",
            "Categoria que mais vende: moveis\n",
            "Loja melhor avaliada: Loja 3\n",
            "Produto mais vendido: Cômoda\n",
            "Loja com frete mais caro: Loja 1\n"
          ]
        }
      ]
    },
    {
      "cell_type": "markdown",
      "source": [
        "RELATÓRIO DE ANÁLISE DE DESEMPENHO DAS LOJAS\n",
        "\n",
        "O objetivo dessa análise é ajudar o Senhor João a decidir qual loja vale mais a pena vender. Para isso, considerei vários fatores importantes, como o faturamento total, quais categorias de produtos vendem mais e menos, a média das avaliações dos clientes, o volume de vendas, o ticket médio e o custo do frete. A ideia é usar esses dados para entender qual loja tem o melhor desempenho geral.\n",
        "\n",
        "Análise da Loja 4\n",
        "Aqui estão os principais pontos que encontrei para a Loja 4:\n",
        "\n",
        "O faturamento dela foi de R$ 1.384.497,58, ficando em 4º lugar entre as lojas.\n",
        "\n",
        "O número de vendas foi 2.358, também na 4ª posição.\n",
        "\n",
        "O ticket médio, que é quanto o cliente gasta em média por compra, foi R$ 587,15, outro indicador em 4º lugar.\n",
        "\n",
        "A satisfação dos clientes é boa, com média de 4,0 estrelas de 5, ficando em 3º lugar.\n",
        "\n",
        "O frete médio é de R$ 31,28, o que é razoável e ajuda a manter a experiência positiva para o cliente.\n",
        "\n",
        "Por tudo isso, minha recomendação é que o Senhor João escolha a Loja 4 para vender."
      ],
      "metadata": {
        "id": "F7VfBl9t5Bcl"
      }
    }
  ]
}